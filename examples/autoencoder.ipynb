{
 "cells": [
  {
   "cell_type": "markdown",
   "metadata": {},
   "source": [
    "## Bibliotheken importieren und Modell initialisieren"
   ]
  },
  {
   "cell_type": "code",
   "execution_count": null,
   "metadata": {},
   "outputs": [],
   "source": [
    "import deepwaveform as dwf\n",
    "import matplotlib.pyplot as plt\n",
    "import torch\n",
    "df = next(dwf.load_dataset(\"../data/mit_uferuebergang.csv\"))\n",
    "df"
   ]
  },
  {
   "cell_type": "code",
   "execution_count": null,
   "metadata": {},
   "outputs": [],
   "source": [
    "ds = dwf.WaveFormDataset(df, classcol=None)                     # Datensatz in passende Form bringen\n",
    "model = dwf.AutoEncoder(hidden=12)                              # Modell initialisieren\n",
    "trainer = dwf.Trainer(model, ds, batch_size=4096, epochs=20)    # Trainer mit Datensatz und Modell initialisieren"
   ]
  },
  {
   "cell_type": "markdown",
   "metadata": {},
   "source": [
    "## Trainieren des Autoencoders"
   ]
  },
  {
   "cell_type": "code",
   "execution_count": null,
   "metadata": {},
   "outputs": [],
   "source": [
    "stats = []\n",
    "for epoch, result in enumerate(trainer.train_autoencoder(sparsity=0), start=1):\n",
    "    stats.append(result)\n",
    "    if epoch%1==0:\n",
    "        print(\"epoch=%s E[loss]=%.5f Var[loss]=%.5f\" % (str(epoch).zfill(3), \n",
    "                                                        result[\"meanloss\"], \n",
    "                                                        result[\"varloss\"]))\n",
    "\n",
    "fig, ax = plt.subplots(1,1)\n",
    "dwf.plot_training_progress(stats, ax)"
   ]
  },
  {
   "cell_type": "markdown",
   "metadata": {},
   "source": [
    "## Speichern des Autoencoders"
   ]
  },
  {
   "cell_type": "code",
   "execution_count": null,
   "metadata": {},
   "outputs": [],
   "source": [
    "torch.save(model.state_dict(), \"trained_models/autoencoder.pt\")"
   ]
  },
  {
   "cell_type": "markdown",
   "metadata": {},
   "source": [
    "## Datensatz annotieren\n",
    "Mit der Funktion `annotate_dataframe` des Autoencoders werden neue Spalten hinzugefügt, die die Kodierung und die rekonstruierten Waveforms enthalten."
   ]
  },
  {
   "cell_type": "code",
   "execution_count": null,
   "metadata": {},
   "outputs": [],
   "source": [
    "model.annotate_dataframe(df,                                    # Der Datensatz, der annotiert werden soll\n",
    "                         encoding_prefix=\"hidden_\",             # Spaltenpräfix der Kodierung\n",
    "                         reconstruction_prefix=\"reconstr_\")     # Spaltenpräfix der Rekonstruktion\n",
    "df"
   ]
  },
  {
   "cell_type": "markdown",
   "metadata": {},
   "source": [
    "## Visualisierung der echten Waveform vs. Rekonstruktion"
   ]
  },
  {
   "cell_type": "code",
   "execution_count": null,
   "metadata": {},
   "outputs": [],
   "source": [
    "sampled = df.sample(n=1).reset_index()\n",
    "fig, ax = plt.subplots(1, 1, figsize=(12,6))\n",
    "dwf.plot_waveforms(sampled, \n",
    "                   ax, \n",
    "                   class_label_mapping=[\"Land (True)\", \"Water (True)\"], \n",
    "                   class_style_mapping=[\"g-\",\"b-\"],\n",
    "                   wv_cols=list(map(str, range(64))))\n",
    "dwf.plot_waveforms(sampled, \n",
    "                   ax, \n",
    "                   class_label_mapping=[\"Land (reconstructed)\", \"Water (reconstructed)\"], \n",
    "                   class_style_mapping=[\"g--\",\"b--\"],\n",
    "                   wv_cols=[\"reconstr_%d\" % idx for idx in range(64)])"
   ]
  },
  {
   "cell_type": "code",
   "execution_count": null,
   "metadata": {},
   "outputs": [],
   "source": []
  }
 ],
 "metadata": {
  "kernelspec": {
   "display_name": "Python 3.6.9 64-bit",
   "language": "python",
   "name": "python36964bit019ac1ddd4de423abf9b086ca7e6df0b"
  },
  "language_info": {
   "codemirror_mode": {
    "name": "ipython",
    "version": 3
   },
   "file_extension": ".py",
   "mimetype": "text/x-python",
   "name": "python",
   "nbconvert_exporter": "python",
   "pygments_lexer": "ipython3",
   "version": "3.8.5-final"
  }
 },
 "nbformat": 4,
 "nbformat_minor": 2
}