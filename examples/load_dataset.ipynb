{
 "metadata": {
  "language_info": {
   "codemirror_mode": {
    "name": "ipython",
    "version": 3
   },
   "file_extension": ".py",
   "mimetype": "text/x-python",
   "name": "python",
   "nbconvert_exporter": "python",
   "pygments_lexer": "ipython3",
   "version": "3.8.2-final"
  },
  "orig_nbformat": 2,
  "kernelspec": {
   "name": "python_defaultSpec_1600866463848",
   "display_name": "Python 3.8.2 64-bit"
  }
 },
 "nbformat": 4,
 "nbformat_minor": 2,
 "cells": [
  {
   "source": [
    "## Importieren der Bibliotheken"
   ],
   "cell_type": "markdown",
   "metadata": {}
  },
  {
   "cell_type": "code",
   "execution_count": null,
   "metadata": {},
   "outputs": [],
   "source": [
    "import deepwaveform as dwf\n",
    "import matplotlib.cm as cm"
   ]
  },
  {
   "source": [
    "## Laden des Datensatzes und Visualisierung als Punktwolke"
   ],
   "cell_type": "markdown",
   "metadata": {}
  },
  {
   "cell_type": "code",
   "execution_count": null,
   "metadata": {
    "tags": []
   },
   "outputs": [],
   "source": [
    "dataset = dwf.load_dataset( \"../data/elbabschnitt.txt\",   # Link zum Datensatz\n",
    "                            wv_cols=list(range(64)))                    # Spalten, die die Waveform enthalten\n",
    "dataset"
   ]
  },
  {
   "cell_type": "code",
   "execution_count": null,
   "metadata": {},
   "outputs": [],
   "source": [
    "dwf.plot_pcl(   dataset,                # Der geladene Datensatz\n",
    "                plotsize=12,            # Größe des Plots\n",
    "                targetcol=\"class\",      # Die Spalte, die die Klasse enthält\n",
    "                colormap=cm.coolwarm,   # Farbgebung (s.a. https://matplotlib.org/tutorials/colors/colormaps.html)\n",
    "                xcol=\"x\",               # Spalten, die x,y und z-Positionen der Punkte enthalten\n",
    "                ycol=\"y\",\n",
    "                zcol=\"z\")"
   ]
  },
  {
   "source": [
    "## Waveforms auswählen und anzeigen lassen"
   ],
   "cell_type": "markdown",
   "metadata": {}
  },
  {
   "cell_type": "code",
   "execution_count": null,
   "metadata": {
    "tags": []
   },
   "outputs": [],
   "source": [
    "sampled = dataset.sample(n=50).reset_index()                        # Auswählen von 50 zufälligen Waveforms \n",
    "dwf.plot_waveforms(sampled,                                         # Der Datensatz, der angezeigt werden soll\n",
    "                   classcol=\"class\",                                # Die Spalte, die die Klasse enthält\n",
    "                   class_label_mapping=[\"Land\", \"Wasser\"],          # Welcher Name in der Legende für jede Klasse angezeigt wird\n",
    "                   wv_cols=list(range(64)))                         # Spalten, die die Waveform enthalten"
   ]
  },
  {
   "cell_type": "code",
   "execution_count": null,
   "metadata": {},
   "outputs": [],
   "source": []
  }
 ]
}