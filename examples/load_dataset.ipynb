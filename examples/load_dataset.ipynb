{
 "cells": [
  {
   "cell_type": "markdown",
   "metadata": {},
   "source": [
    "## Importieren der Bibliotheken"
   ]
  },
  {
   "cell_type": "code",
   "execution_count": null,
   "metadata": {},
   "outputs": [],
   "source": [
    "import deepwaveform as dwf\n",
    "import matplotlib.cm as cm\n",
    "import matplotlib.pyplot as plt"
   ]
  },
  {
   "cell_type": "markdown",
   "metadata": {},
   "source": [
    "## Laden des Datensatzes und Visualisierung als Punktwolke"
   ]
  },
  {
   "cell_type": "code",
   "execution_count": null,
   "metadata": {
    "tags": []
   },
   "outputs": [],
   "source": [
    "dataset = dwf.load_dataset( \"../data/elbabschnitt.txt\",   # Link zum Datensatz\n",
    "                            wv_cols=list(range(64)))                    # Spalten, die die Waveform enthalten\n",
    "dataset"
   ]
  },
  {
   "cell_type": "code",
   "execution_count": null,
   "metadata": {},
   "outputs": [],
   "source": [
    "fig = plt.figure(figsize=(15,15))\n",
    "ax = fig.add_subplot(111, projection=\"3d\")\n",
    "dwf.plot_pcl(   dataset,                # Der geladene Datensatz\n",
    "                ax,                     # Die Achse, auf der geplottet werden soll\n",
    "                targetcol=\"class\",      # Die Spalte, die die Klasse enthält\n",
    "                colormap=cm.coolwarm,   # Farbgebung (s.a. https://matplotlib.org/tutorials/colors/colormaps.html)\n",
    "                xcol=\"x\",               # Spalten, die x,y und z-Positionen der Punkte enthalten\n",
    "                ycol=\"y\",\n",
    "                zcol=\"z\")"
   ]
  },
  {
   "cell_type": "markdown",
   "metadata": {},
   "source": [
    "## Waveforms auswählen und anzeigen lassen"
   ]
  },
  {
   "cell_type": "code",
   "execution_count": null,
   "metadata": {
    "tags": []
   },
   "outputs": [],
   "source": [
    "fig, ax = plt.subplots(1,1,figsize=(12,6))\n",
    "sampled = dataset.sample(n=20).reset_index()                        # Auswählen von 50 zufälligen Waveforms \n",
    "dwf.plot_waveforms(sampled,                                         # Der Datensatz, der angezeigt werden soll\n",
    "                   ax,                                              # Die Achse, auf der geplottet werden soll\n",
    "                   classcol=\"class\",                                # Die Spalte, die die Klasse enthält\n",
    "                   class_label_mapping=[\"Land\", \"Wasser\"],          # Welcher Name in der Legende für jede Klasse angezeigt wird\n",
    "                   wv_cols=list(range(64)))                         # Spalten, die die Waveform enthalten"
   ]
  },
  {
   "cell_type": "code",
   "execution_count": null,
   "metadata": {},
   "outputs": [],
   "source": []
  }
 ],
 "metadata": {
  "kernelspec": {
   "display_name": "Python 3.6.9 64-bit",
   "language": "python",
   "name": "python36964bit019ac1ddd4de423abf9b086ca7e6df0b"
  },
  "language_info": {
   "codemirror_mode": {
    "name": "ipython",
    "version": 3
   },
   "file_extension": ".py",
   "mimetype": "text/x-python",
   "name": "python",
   "nbconvert_exporter": "python",
   "pygments_lexer": "ipython3",
   "version": "3.8.2"
  }
 },
 "nbformat": 4,
 "nbformat_minor": 2
}
