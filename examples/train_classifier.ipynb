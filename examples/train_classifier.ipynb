{
 "metadata": {
  "language_info": {
   "codemirror_mode": {
    "name": "ipython",
    "version": 3
   },
   "file_extension": ".py",
   "mimetype": "text/x-python",
   "name": "python",
   "nbconvert_exporter": "python",
   "pygments_lexer": "ipython3",
   "version": "3.8.2-final"
  },
  "orig_nbformat": 2,
  "kernelspec": {
   "name": "python_defaultSpec_1600867625258",
   "display_name": "Python 3.8.2 64-bit"
  }
 },
 "nbformat": 4,
 "nbformat_minor": 2,
 "cells": [
  {
   "source": [
    "## Bibliothek importieren und Datensatz laden"
   ],
   "cell_type": "markdown",
   "metadata": {}
  },
  {
   "cell_type": "code",
   "execution_count": null,
   "metadata": {},
   "outputs": [],
   "source": [
    "import deepwaveform as dwf\n",
    "import torch\n",
    "df = dwf.load_dataset(\"../data/elbabschnitt.txt\", wv_cols=list(range(64)))\n",
    "df"
   ]
  },
  {
   "source": [
    "## Datensatz in eine passende Form bringen und Trainingsprozess initialisieren"
   ],
   "cell_type": "markdown",
   "metadata": {}
  },
  {
   "cell_type": "code",
   "execution_count": null,
   "metadata": {},
   "outputs": [],
   "source": [
    "train_df = df.sample(frac=0.8)              # Teilt den gesamten Datensatz in zwei Hälften\n",
    "test_df = df.drop(train_df.index)           # \n",
    "train_ds = dwf.WaveFormDataset(train_df)    # Bringt den Datensatz in eine passende Form\n",
    "test_ds = dwf.WaveFormDataset(test_df)      # \n",
    "model = dwf.ConvNet(output_dimension=2)     # Convolutional Neural Network initialisieren\n",
    "trainer = dwf.Trainer(model,                # Das Modell, das trainiert werden soll\n",
    "                      train_ds,             # Der Datensatz, der dafür verwendet werden soll\n",
    "                      optimizer=None,       # Der Optimierer, der den Trainingsprozess regelt (für 'None' wird ein Standardoptimierer verwendet)\n",
    "                      batch_size=1024,      # Wie viele Beispiele in einen Optimierungsschritt einfließen sollen\n",
    "                      epochs=10)            # Wie oft über den kompletten Datensatz iteriert werden soll"
   ]
  },
  {
   "source": [
    "## Trainieren und Zwischenergebnisse visualisieren "
   ],
   "cell_type": "markdown",
   "metadata": {}
  },
  {
   "cell_type": "code",
   "execution_count": null,
   "metadata": {
    "tags": []
   },
   "outputs": [],
   "source": [
    "stats = []                                  # Initialisiert eine leere Liste, in der die Ergebnisse akkumuliert werden\n",
    "for epoch, result in enumerate(trainer.train_classifier(), start=1):   # Trainiert das Modell\n",
    "    print(\"epoch=%s E[loss]=%.3f Var[loss]=%.3f\" % (str(epoch).zfill(3), result[\"meanloss\"], result[\"varloss\"]))\n",
    "    stats.append(result)                    # Akkumuliert Zwischenergebnisse\n",
    "dwf.plot_training_progress(stats)           # Plotted die Zwischenergebnisse"
   ]
  },
  {
   "source": [
    "Der Trainingsfortschritt über die Epochen - je niedriger, desto weniger Fortschritt wird in jeder Iteration erzielt. Das ist ein Zeichen dafür, dass die Güte der Parameter zu einem lokalen Minimum konvergiert.\n",
    "\n",
    "---\n",
    "\n",
    "## Plotten der Confusion Matrix\n",
    "Die \"Confusion Matrix\" zeigt an, wie oft das Modell welche Klassen miteinander verwechselt. Die Einträge können als Wahrscheinlichkeiten verstanden werden. Beispielsweise ist der obere rechte Eintrag die Wahrscheinlichkeit, dass das Modell eine Wasser-Waveform bekommt und diese dann als \"Land\" klassifiziert."
   ],
   "cell_type": "markdown",
   "metadata": {}
  },
  {
   "cell_type": "code",
   "execution_count": null,
   "metadata": {},
   "outputs": [],
   "source": [
    "dwf.plot_confusion_matrix(model, test_ds, class_label_mapping=[\"Land\", \"Water\"])"
   ]
  },
  {
   "source": [
    "## Speichern und Laden des Modells"
   ],
   "cell_type": "markdown",
   "metadata": {}
  },
  {
   "cell_type": "code",
   "execution_count": null,
   "metadata": {},
   "outputs": [],
   "source": [
    "torch.save(model.state_dict(), \"model_classifier.pt\")               # Speichert die Parameter des Modells"
   ]
  },
  {
   "cell_type": "code",
   "execution_count": null,
   "metadata": {},
   "outputs": [],
   "source": [
    "loaded_model = dwf.ConvNet(output_dimension=2)                      # Erstellt ein neues Modell mit zufälligen Parametern\n",
    "dwf.plot_confusion_matrix(loaded_model, test_ds)                    # ...das nicht besonders gut zwischen Land und Wasser unterscheiden kann\n",
    "loaded_model.load_state_dict(torch.load(\"model_classifier.pt\"))     # lädt die gespeicherten Parameter in das neue Modell\n",
    "loaded_model.eval()\n",
    "dwf.plot_confusion_matrix(loaded_model, test_ds)                    # ...welches im Anschluss deutlich besser klassifizieren kann."
   ]
  },
  {
   "source": [
    "## Datensatz prozessieren\n",
    "Wir können das trainierte Modell auf einen unbekannten Datensatz ansetzen und so Vorhersagen über die Objektklassen treffen. "
   ],
   "cell_type": "markdown",
   "metadata": {}
  },
  {
   "cell_type": "code",
   "execution_count": null,
   "metadata": {},
   "outputs": [],
   "source": [
    "unknown_df = dwf.load_dataset(\"../data/mit_uferuebergang.txt\")\n",
    "\n",
    "loaded_model.process_dataframe(unknown_df,                                      # Der Datensatz, der annotiert werden soll\n",
    "                               wv_cols=list(range(64)),                         # Die Spaltennamen, die die Waveform angeben\n",
    "                               class_label_mapping=[\"Land\", \"Water\"],           # Zu den Klassen korrepondierende Labelnamen\n",
    "                               predicted_column=\"Predicted\")                    # Spaltenname für wahrscheinlichste Klasse\n",
    "unknown_df"
   ]
  },
  {
   "source": [
    "## Vom Modell klassifizierten Datensatz anzeigen lassen\n",
    "Die Farben der verschiedenen Klassen können angegeben werden. Abhängig von der Sicherheit des Modells werden die Farben (linear) interpoliert."
   ],
   "cell_type": "markdown",
   "metadata": {}
  },
  {
   "cell_type": "code",
   "execution_count": null,
   "metadata": {
    "tags": []
   },
   "outputs": [],
   "source": [
    " dwf.plot_pcl_prediction(unknown_df,                                # Der geladene Datensatz\n",
    "                        plotsize=12,                                # Größe des Plots\n",
    "                        probabilities_col=[\"Land\", \"Water\"],        # Spalten, die die Modellvorhersage zu den entsprechenden Klassen enthalten\n",
    "                        colors=[\"green\",\"blue\"],                    # Farben, die den Klassen gegeben werden sollen\n",
    "                        xcol=\"x\",                                   # Spalten, die x,y und z-Positionen der Punkte enthalten\n",
    "                        ycol=\"y\",\n",
    "                        zcol=\"z\")"
   ]
  }
 ]
}