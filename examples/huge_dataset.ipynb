{
 "metadata": {
  "language_info": {
   "codemirror_mode": {
    "name": "ipython",
    "version": 3
   },
   "file_extension": ".py",
   "mimetype": "text/x-python",
   "name": "python",
   "nbconvert_exporter": "python",
   "pygments_lexer": "ipython3",
   "version": "3.8.5-final"
  },
  "orig_nbformat": 2,
  "kernelspec": {
   "name": "Python 3.8.5 64-bit",
   "display_name": "Python 3.8.5 64-bit",
   "metadata": {
    "interpreter": {
     "hash": "31f2aee4e71d21fbe5cf8b01ff0e069b9275f58929596ceb00d14d90e3e16cd6"
    }
   }
  }
 },
 "nbformat": 4,
 "nbformat_minor": 2,
 "cells": [
  {
   "cell_type": "code",
   "execution_count": null,
   "metadata": {},
   "outputs": [],
   "source": [
    "import deepwaveform as dwf\n",
    "import numpy as np\n",
    "import torch\n",
    "from sklearn.cluster import KMeans"
   ]
  },
  {
   "cell_type": "code",
   "execution_count": null,
   "metadata": {
    "tags": []
   },
   "outputs": [],
   "source": [
    "targets = [\"../data/strip_137.csv\", \"../data/strip_139.csv\"]\n",
    "\n",
    "model_conv = dwf.ConvNet(output_dimension=2)\n",
    "model_conv.load_state_dict(torch.load(\"trained_models/classifier.pt\"))\n",
    "model_conv.eval()\n",
    "model_ae = dwf.AutoEncoder(hidden=12)\n",
    "model_ae.load_state_dict(torch.load(\"trained_models/autoencoder.pt\"))\n",
    "model_ae.eval()\n",
    "\n",
    "cluster_centers = np.genfromtxt('trained_models/cluster_centers.csv', delimiter=';')    \n",
    "kmeans = KMeans(n_clusters=5)\n",
    "kmeans.cluster_centers_ = cluster_centers\n",
    "\n",
    "CS = 10**5\n",
    "for target in targets:\n",
    "    print(\"annotating %s\" % target)\n",
    "    for idx, chunk in enumerate(dwf.load_dataset(target, chunksize=CS)):\n",
    "        model_conv.annotate_dataframe(chunk,\n",
    "                                      class_label_mapping=[\"Land\", \"Water\"],\n",
    "                                      predicted_column=\"Predicted\")\n",
    "        model_ae.annotate_dataframe(chunk)\n",
    "\n",
    "        mat_hidden = dwf.waveform2matrix(chunk, wv_cols=[\"hidden_%d\" % idx for idx in range(12)])\n",
    "        pred = kmeans.predict(mat_hidden)\n",
    "        chunk[\"Cluster\"] = pred\n",
    "\n",
    "        # drop columns\n",
    "        chunk.drop([str(idx) for idx in range(296)], axis=1, inplace=True)\n",
    "        chunk.drop([\"hidden_\" + str(idx) for idx in range(12)], axis=1, inplace=True)\n",
    "        chunk.drop([\"reconstr_\" + str(idx) for idx in range(64)], axis=1, inplace=True)\n",
    "        chunk.to_csv(target[:-4]+\"_annotated.csv\", header=(idx==0), sep=\";\", mode='a')\n",
    "        \n",
    "        print(\"annotated %d waveforms...\" % ((idx+1)*CS))\n",
    "    print()"
   ]
  },
  {
   "cell_type": "code",
   "execution_count": null,
   "metadata": {},
   "outputs": [],
   "source": [
    "df = next(dwf.load_dataset(\"../data/strip_139_annotated.csv\", samplesize=100000))"
   ]
  },
  {
   "cell_type": "code",
   "execution_count": null,
   "metadata": {},
   "outputs": [],
   "source": [
    "dwf.plot_pcl(df, None, targetcol=\"Cluster\", use_plotly=True, inv_z=False)"
   ]
  }
 ]
}